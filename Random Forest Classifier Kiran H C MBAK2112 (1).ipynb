{
 "cells": [
  {
   "cell_type": "code",
   "execution_count": 2,
   "metadata": {},
   "outputs": [],
   "source": [
    "import pyodbc as py\n",
    "import pandas as pd\n",
    "import numpy as np\n",
    "from sklearn.model_selection import train_test_split\n",
    "import matplotlib.pyplot as plt\n",
    "import pylab\n",
    "get_ipython().magic('matplotlib inline')\n",
    "import os,time,datetime\n",
    "from sklearn import metrics\n",
    "from sklearn.metrics import roc_curve\n",
    "from sklearn.metrics import roc_auc_score\n",
    "from sklearn.ensemble import RandomForestClassifier\n",
    "from sklearn import preprocessing"
   ]
  },
  {
   "cell_type": "code",
   "execution_count": 3,
   "metadata": {},
   "outputs": [
    {
     "data": {
      "text/plain": [
       "(7043, 21)"
      ]
     },
     "execution_count": 3,
     "metadata": {},
     "output_type": "execute_result"
    }
   ],
   "source": [
    "# Importing the dataset\n",
    "telco = pd.read_csv('Telco_Customer_Churn.csv')\n",
    "#Churn_data.head()\n",
    "telco.shape"
   ]
  },
  {
   "cell_type": "code",
   "execution_count": 4,
   "metadata": {},
   "outputs": [
    {
     "data": {
      "text/plain": [
       "Index(['customerID', 'gender', 'SeniorCitizen', 'Partner', 'Dependents',\n",
       "       'tenure', 'PhoneService', 'MultipleLines', 'InternetService',\n",
       "       'OnlineSecurity', 'OnlineBackup', 'DeviceProtection', 'TechSupport',\n",
       "       'StreamingTV', 'StreamingMovies', 'Contract', 'PaperlessBilling',\n",
       "       'PaymentMethod', 'MonthlyCharges', 'TotalCharges', 'Churn'],\n",
       "      dtype='object')"
      ]
     },
     "execution_count": 4,
     "metadata": {},
     "output_type": "execute_result"
    }
   ],
   "source": [
    "telco.columns.unique()"
   ]
  },
  {
   "cell_type": "code",
   "execution_count": 18,
   "metadata": {},
   "outputs": [
    {
     "data": {
      "text/plain": [
       "array(['No', 'Yes'], dtype=object)"
      ]
     },
     "execution_count": 18,
     "metadata": {},
     "output_type": "execute_result"
    }
   ],
   "source": [
    "telco[ \"Churn\"].unique()"
   ]
  },
  {
   "cell_type": "code",
   "execution_count": 19,
   "metadata": {},
   "outputs": [],
   "source": [
    "telco[\"gender\"]=np.where(telco.gender == \"Female\",1,0)\n",
    "telco[\"gender\"]=np.where(telco.gender == \"Male\",1,0)\n",
    "telco[\"Partner\"]=np.where(telco.Partner == \"Yes\",1,0)\n",
    "telco[\"Partner\"]=np.where(telco.Partner == \"No\",1,0)\n",
    "telco[\"Dependents\"]=np.where(telco.Dependents == \"Yes\",1,0)\n",
    "telco[\"Dependents\"]=np.where(telco.Dependents == \"No\",1,0)\n",
    "telco[\"PhoneService\"]=np.where(telco.PhoneService == \"Yes\",1,0)\n",
    "telco[\"PhoneService\"]=np.where(telco.PhoneService == \"No\",1,0)\n",
    "telco[\"MultipleLines\"]=np.where(telco.MultipleLines == \"Yes\",1,0)\n",
    "telco[\"MultipleLines\"]=np.where(telco.MultipleLines == \"No\",1,0)\n",
    "telco[\"MultipleLines\"]=np.where(telco.MultipleLines == \"No phone service\",1,0)\n",
    "telco[\"InternetService\"]=np.where(telco.InternetService == \"No\",1,0)\n",
    "telco[\"InternetService\"]=np.where(telco.InternetService == \"Fiber optic\",1,0)\n",
    "telco[\"InternetService\"]=np.where(telco.InternetService == \"DSL\",1,0)\n",
    "telco[\"OnlineSecurity\"]=np.where(telco.OnlineSecurity == \"Yes\",1,0)\n",
    "telco[\"OnlineSecurity\"]=np.where(telco.OnlineSecurity == \"No\",1,0)\n",
    "telco[\"OnlineSecurity\"]=np.where(telco.OnlineSecurity == \"No internet service\",1,0)\n",
    "telco[\"OnlineBackup\"]=np.where(telco.OnlineBackup == \"Yes\",1,0)\n",
    "telco[\"OnlineBackup\"]=np.where(telco.OnlineBackup == \"No\",1,0)\n",
    "telco[\"OnlineBackup\"]=np.where(telco.OnlineBackup == \"No internet service\",1,0)\n",
    "telco[\"DeviceProtection\"]=np.where(telco.DeviceProtection == \"Yes\",1,0)\n",
    "telco[\"DeviceProtection\"]=np.where(telco.DeviceProtection == \"No\",1,0)\n",
    "telco[\"DeviceProtection\"]=np.where(telco.DeviceProtection == \"No internet service\",1,0)\n",
    "telco[\"TechSupport\"]=np.where(telco.TechSupport == \"Yes\",1,0)\n",
    "telco[\"TechSupport\"]=np.where(telco.TechSupport == \"No\",1,0)\n",
    "telco[\"TechSupport\"]=np.where(telco.TechSupport == \"No internet service\",1,0)\n",
    "telco[\"StreamingTV\"]=np.where(telco.StreamingTV == \"Yes\",1,0)\n",
    "telco[\"StreamingTV\"]=np.where(telco.StreamingTV == \"No\",1,0)\n",
    "telco[\"StreamingTV\"]=np.where(telco.StreamingTV == \"No internet service\",1,0)\n",
    "telco[\"StreamingMovies\"]=np.where(telco.StreamingMovies == \"Yes\",1,0)\n",
    "telco[\"StreamingMovies\"]=np.where(telco.StreamingMovies == \"No\",1,0)\n",
    "telco[\"StreamingMovies\"]=np.where(telco.StreamingMovies == \"No internet service\",1,0)\n",
    "telco[\"Contract\"]=np.where(telco.Contract == \"Two year\",1,0)\n",
    "telco[\"Contract\"]=np.where(telco.Contract == \"One year\",1,0)\n",
    "telco[\"Contract\"]=np.where(telco.Contract == \"Month-to-month\",1,0)\n",
    "telco[\"PaperlessBilling\"]=np.where(telco.PaperlessBilling == \"Yes\",1,0)\n",
    "telco[\"PaperlessBilling\"]=np.where(telco.PaperlessBilling == \"No\",1,0)\n",
    "telco[\"PaymentMethod\"]=np.where(telco.PaymentMethod == \"Electronic check\",1,0)\n",
    "telco[\"PaymentMethod\"]=np.where(telco.PaymentMethod == \"Mailed check\",1,0)\n",
    "telco[\"PaymentMethod\"]=np.where(telco.PaymentMethod == \"Bank transfer (automatic)\",1,0)\n",
    "telco[\"PaymentMethod\"]=np.where(telco.PaymentMethod == \"Credit card (automatic)\",1,0)\n",
    "telco[\"Churn\"]=np.where(telco.Churn == \"No\",1,0)\n",
    "telco[\"Churn\"]=np.where(telco.Churn == \"Yes\",1,0)"
   ]
  },
  {
   "cell_type": "code",
   "execution_count": 28,
   "metadata": {},
   "outputs": [],
   "source": [
    "def returnFeatureImportance(est, col):\n",
    "    feature_importance = est.feature_importances_\n",
    "    feature_importance_rel = 100.0 * (feature_importance / feature_importance.max())\n",
    "    sorted_idx = np.argsort(feature_importance_rel)\n",
    "    featuresNames = []\n",
    "    featureImps =[]\n",
    "    featureImps_Rel = []\n",
    "    for item in sorted_idx[::-1][:]:\n",
    "        featuresNames.append(np.asarray(col)[item])\n",
    "        featureImps.append(feature_importance[item])\n",
    "        featureImps_Rel.append(feature_importance_rel[item])\n",
    "    featureImportance = pd.DataFrame([featuresNames, featureImps, featureImps_Rel]).transpose()\n",
    "    featureImportance.columns = ['FeatureName', 'Importance', 'Relative Importance']\n",
    "    return featureImportance"
   ]
  },
  {
   "cell_type": "code",
   "execution_count": 29,
   "metadata": {},
   "outputs": [],
   "source": [
    "#from sklearn.tree import DecisionTreeClassifier\n",
    "# Get the Classification Report, Confusion Matrix, ROC Plots and Feature Importance for the model\n",
    "\n",
    "\n",
    "def roc_plot(fpr, tpr, fpr_tst, tpr_tst, var):\n",
    "    fig=plt.plot(fpr, tpr, label='Train')\n",
    "    fig=plt.plot(fpr_tst, tpr_tst, label='Test')\n",
    "    plt.xlim([0.0, 1.0])\n",
    "    plt.ylim([0.0, 1.0])\n",
    "    plt.title(\"ROC curve using \" + var + \" data\")\n",
    "    plt.xlabel('False Positive Rate (1 - Specificity)')\n",
    "    plt.ylabel('True Positive Rate (Sensitivity)')\n",
    "    plt.legend(loc='lower right')\n",
    "    plt.grid(True)\n",
    "    #save(output+'roc_'+var, ext=\"png\", close=False, verbose=True)  \n",
    "    plt.show()\n",
    "\n",
    "      \n",
    "    \n",
    "def get_confmatrix_roc_featimp(est, prefix, X_train1, X_test1, Y_train, Y_test):\n",
    "    # Predicting target variable for training and 2015&2016 testing dataset\n",
    "    train_pred = est.predict(X_train1)\n",
    "    test_pred = est.predict(X_test1)\n",
    "    train_pred_prob = est.predict_proba(X_train1)[:,1]\n",
    "    test_pred_prob = est.predict_proba(X_test1)[:,1]\n",
    "    \n",
    "    # Confusion Matrix for Train dataset \n",
    "    print (\"\\nTrain Data for - \" + prefix )\n",
    "    expected = Y_train\n",
    "    predicted = est.predict(X_train1)\n",
    "    class_rep_tr = metrics.classification_report(expected, predicted)\n",
    "    print (\"Classification report of the model \" + prefix + \" is:\\n \", class_rep_tr)\n",
    "    conf_mat_tr = metrics.confusion_matrix(expected, predicted)\n",
    "    print (\"Confusion matrix of the model \" + prefix + \" is:\\n \", conf_mat_tr)\n",
    "    acc_tr=metrics.accuracy_score(expected, predicted)\n",
    "    print (\"Accuracy of the model \" + prefix + \" is: \", acc_tr)\n",
    "    sensitivity_tr=metrics.recall_score(expected, predicted)\n",
    "    print (\"Recall/Sensitivity of the model \" + prefix + \" is: \", sensitivity_tr)\n",
    "    \n",
    "    # Confusion Matrix for Test dataset\n",
    "    print (\"\\n\\nTest Data for - \" + prefix)\n",
    "    expected = Y_test \n",
    "    predicted = est.predict(X_test1)\n",
    "    class_rep_tst = metrics.classification_report(expected, predicted)\n",
    "    print (\"Classification report of the model \" + prefix + \" is:\\n \", class_rep_tst)\n",
    "    conf_mat_tst = metrics.confusion_matrix(expected, predicted)\n",
    "    print (\"Confusion matrix of the model \" + prefix + \" is:\\n \", conf_mat_tst)\n",
    "    acc_tst=metrics.accuracy_score(expected, predicted)\n",
    "    print (\"Accuracy of the model \" + prefix + \" is: \", acc_tst)\n",
    "    sensitivity_tst=metrics.recall_score(expected, predicted)\n",
    "    print (\"Recall/Sensitivity of the model \" + prefix + \" is: \", sensitivity_tst)\n",
    "    \n",
    "    # ROC Curve for Train data\n",
    "    fpr, tpr, thresholds = metrics.roc_curve(Y_train, train_pred_prob)\n",
    "    AUC_Train = metrics.roc_auc_score(Y_train, train_pred_prob)\n",
    "    print (\"train_\" + prefix + \"_AUC = \" , AUC_Train)\n",
    "    # ROC Curve for Test data\n",
    "    fpr_tst, tpr_tst, thresholds = metrics.roc_curve(Y_test, test_pred_prob)\n",
    "    tr_tst_prefix = \"train_test_\" + prefix\n",
    "    roc_plot(fpr, tpr, fpr_tst, tpr_tst, prefix)\n",
    "    AUC_Test = metrics.roc_auc_score(Y_test, test_pred_prob)\n",
    "    print (\"test_\" + prefix + \"_auc = \" , AUC_Test)\n",
    "    \n",
    "    # Feature Importances\n",
    "    #featureImp = returnFeatureImportance(est, X_train1.columns)\n",
    "    #featureImp.to_csv(output+\"FeatureImp_\" + prefix + \".csv\")\n",
    "    \n",
    "    return test_pred_prob, train_pred_prob, class_rep_tr, conf_mat_tr, class_rep_tst, conf_mat_tst , acc_tr, acc_tst,sensitivity_tr, sensitivity_tst,AUC_Train, AUC_Test\n"
   ]
  },
  {
   "cell_type": "code",
   "execution_count": 22,
   "metadata": {},
   "outputs": [],
   "source": [
    "Y = telco['Churn']\n",
    "X = telco.drop(['Churn'], axis=1)"
   ]
  },
  {
   "cell_type": "code",
   "execution_count": 23,
   "metadata": {},
   "outputs": [],
   "source": [
    "from sklearn.model_selection import train_test_split\n",
    "X_train, X_test, y_train, y_test = train_test_split(X, Y, test_size = 0.3, random_state=25)"
   ]
  },
  {
   "cell_type": "code",
   "execution_count": 24,
   "metadata": {},
   "outputs": [
    {
     "data": {
      "text/plain": [
       "((4930, 20), (2113, 20))"
      ]
     },
     "execution_count": 24,
     "metadata": {},
     "output_type": "execute_result"
    }
   ],
   "source": [
    "X_train.shape, X_test.shape"
   ]
  },
  {
   "cell_type": "code",
   "execution_count": 26,
   "metadata": {},
   "outputs": [],
   "source": [
    "X_train1 = X_train.drop(['customerID', 'gender', 'SeniorCitizen', 'Partner', 'Dependents',\n",
    "           'PhoneService', 'MultipleLines', 'InternetService',\n",
    "       'OnlineSecurity', 'OnlineBackup', 'DeviceProtection', 'TechSupport',\n",
    "       'StreamingTV', 'StreamingMovies', 'Contract', 'PaperlessBilling',\n",
    "       'PaymentMethod'], axis=1)\n",
    "X_test1 = X_test.drop(['customerID', 'gender', 'SeniorCitizen', 'Partner', 'Dependents',\n",
    "           'PhoneService', 'MultipleLines', 'InternetService',\n",
    "       'OnlineSecurity', 'OnlineBackup', 'DeviceProtection', 'TechSupport',\n",
    "       'StreamingTV', 'StreamingMovies', 'Contract', 'PaperlessBilling',\n",
    "       'PaymentMethod'], axis=1)"
   ]
  },
  {
   "cell_type": "markdown",
   "metadata": {},
   "source": [
    "#### https://scikit-learn.org/stable/modules/generated/sklearn.ensemble.RandomForestClassifier.html    -  Refer for Hyper Parameter explaination"
   ]
  },
  {
   "cell_type": "code",
   "execution_count": 27,
   "metadata": {},
   "outputs": [],
   "source": [
    "est = RandomForestClassifier(n_estimators=275, criterion='gini', max_depth=6, min_samples_split=6, min_samples_leaf=2,\n",
    "                             min_weight_fraction_leaf=0.0, max_features='auto', max_leaf_nodes=None, \n",
    "                             min_impurity_decrease=0.0, bootstrap=True, oob_score=False, n_jobs=None, \n",
    "                             random_state=None, verbose=0, warm_start=False, ccp_alpha=0.0, \n",
    "                             max_samples=None, class_weight='balanced')\n",
    "\n",
    "#class_weight={0: 0.5, 1: 5}"
   ]
  },
  {
   "cell_type": "code",
   "execution_count": 79,
   "metadata": {},
   "outputs": [
    {
     "name": "stdout",
     "output_type": "stream",
     "text": [
      "\n",
      " RF Approach Results:\n",
      "\n",
      "\n",
      "Train Data for - RF\n",
      "Classification report of the model RF is:\n",
      "                precision    recall  f1-score   support\n",
      "\n",
      "           0       0.93      0.83      0.88      5544\n",
      "           1       0.54      0.77      0.63      1456\n",
      "\n",
      "    accuracy                           0.81      7000\n",
      "   macro avg       0.73      0.80      0.75      7000\n",
      "weighted avg       0.85      0.81      0.83      7000\n",
      "\n",
      "Confusion matrix of the model RF is:\n",
      "  [[4574  970]\n",
      " [ 332 1124]]\n",
      "Accuracy of the model RF is:  0.814\n",
      "Recall/Sensitivity of the model RF is:  0.771978021978022\n",
      "\n",
      "\n",
      "Test Data for - RF\n",
      "Classification report of the model RF is:\n",
      "                precision    recall  f1-score   support\n",
      "\n",
      "           0       0.92      0.82      0.87      2419\n",
      "           1       0.49      0.71      0.58       581\n",
      "\n",
      "    accuracy                           0.80      3000\n",
      "   macro avg       0.70      0.77      0.72      3000\n",
      "weighted avg       0.84      0.80      0.81      3000\n",
      "\n",
      "Confusion matrix of the model RF is:\n",
      "  [[1980  439]\n",
      " [ 166  415]]\n",
      "Accuracy of the model RF is:  0.7983333333333333\n",
      "Recall/Sensitivity of the model RF is:  0.7142857142857143\n",
      "train_RF_AUC =  0.8830688161045304\n"
     ]
    },
    {
     "data": {
      "image/png": "[encoded data removed]",
      "text/plain": [
       "<Figure size 640x480 with 1 Axes>"
      ]
     },
     "metadata": {},
     "output_type": "display_data"
    },
    {
     "name": "stdout",
     "output_type": "stream",
     "text": [
      "test_RF_auc =  0.8492535072671243\n"
     ]
    }
   ],
   "source": [
    "RF_Model = est.fit(X_train1, y_train)\n",
    "print (\"\\n RF Approach Results:\\n\")\n",
    "RF_Prob_Test, RF_Prob_Train, class_rep_tr, conf_mat_tr, class_rep_tst, conf_mat_tst , acc_tr, acc_tst,sensitivity_tr,sensitivity_tst, AUC_Train, AUC_Test= get_confmatrix_roc_featimp(RF_Model,'RF', X_train1, X_test1, y_train, y_test)"
   ]
  },
  {
   "cell_type": "code",
   "execution_count": null,
   "metadata": {},
   "outputs": [],
   "source": []
  },
  {
   "cell_type": "code",
   "execution_count": null,
   "metadata": {},
   "outputs": [],
   "source": []
  },
  {
   "cell_type": "code",
   "execution_count": null,
   "metadata": {},
   "outputs": [],
   "source": []
  }
 ],
 "metadata": {
  "kernelspec": {
   "display_name": "Python 3 (ipykernel)",
   "language": "python",
   "name": "python3"
  },
  "language_info": {
   "codemirror_mode": {
    "name": "ipython",
    "version": 3
   },
   "file_extension": ".py",
   "mimetype": "text/x-python",
   "name": "python",
   "nbconvert_exporter": "python",
   "pygments_lexer": "ipython3",
   "version": "3.9.7"
  }
 },
 "nbformat": 4,
 "nbformat_minor": 2
}
